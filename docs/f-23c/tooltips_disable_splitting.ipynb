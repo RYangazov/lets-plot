{
 "cells": [
  {
   "cell_type": "markdown",
   "id": "federal-highlight",
   "metadata": {},
   "source": [
    "# Tooltip Customization API: `disable_splitting()`\n",
    "\n",
    "This new function consolidates all \"side\" tooltips (if any) to the general tooltip.\n",
    "\n",
    "You can farther customize content of the general tooltip using the `line()` function and other [Tooltip Customization API](https://datalore.jetbrains.com/report/static/dytOfovKhmqMDBibzZhIKl/78LwZrCQ7uHy8P5L0iOcqr).\n"
   ]
  },
  {
   "cell_type": "code",
   "execution_count": 1,
   "id": "union-mistake",
   "metadata": {},
   "outputs": [],
   "source": [
    "import pandas as pd\n",
    "\n",
    "from lets_plot import *"
   ]
  },
  {
   "cell_type": "code",
   "execution_count": 2,
   "id": "confirmed-actress",
   "metadata": {},
   "outputs": [
    {
     "data": {
      "text/html": [
       "\n",
       "            <div id=\"VBATGZ\"></div>\n",
       "            <script type=\"text/javascript\" data-lets-plot-script=\"library\">\n",
       "                if(!window.letsPlotCallQueue) {\n",
       "                    window.letsPlotCallQueue = [];\n",
       "                }; \n",
       "                window.letsPlotCall = function(f) {\n",
       "                    window.letsPlotCallQueue.push(f);\n",
       "                };\n",
       "                (function() {\n",
       "                    var script = document.createElement(\"script\");\n",
       "                    script.type = \"text/javascript\";\n",
       "                    script.src = \"https://cdn.jsdelivr.net/gh/JetBrains/lets-plot@v4.0.0rc1/js-package/distr/lets-plot.min.js\";\n",
       "                    script.onload = function() {\n",
       "                        window.letsPlotCall = function(f) {f();};\n",
       "                        window.letsPlotCallQueue.forEach(function(f) {f();});\n",
       "                        window.letsPlotCallQueue = [];\n",
       "                        \n",
       "                    };\n",
       "                    script.onerror = function(event) {\n",
       "                        window.letsPlotCall = function(f) {};    // noop\n",
       "                        window.letsPlotCallQueue = [];\n",
       "                        var div = document.createElement(\"div\");\n",
       "                        div.style.color = 'darkred';\n",
       "                        div.textContent = 'Error loading Lets-Plot JS';\n",
       "                        document.getElementById(\"VBATGZ\").appendChild(div);\n",
       "                    };\n",
       "                    var e = document.getElementById(\"VBATGZ\");\n",
       "                    e.appendChild(script);\n",
       "                })()\n",
       "            </script>\n",
       "            "
      ]
     },
     "metadata": {},
     "output_type": "display_data"
    }
   ],
   "source": [
    "LetsPlot.setup_html()"
   ]
  },
  {
   "cell_type": "code",
   "execution_count": 3,
   "id": "flexible-michigan",
   "metadata": {},
   "outputs": [
    {
     "data": {
      "text/html": [
       "<div>\n",
       "<style scoped>\n",
       "    .dataframe tbody tr th:only-of-type {\n",
       "        vertical-align: middle;\n",
       "    }\n",
       "\n",
       "    .dataframe tbody tr th {\n",
       "        vertical-align: top;\n",
       "    }\n",
       "\n",
       "    .dataframe thead th {\n",
       "        text-align: right;\n",
       "    }\n",
       "</style>\n",
       "<table border=\"1\" class=\"dataframe\">\n",
       "  <thead>\n",
       "    <tr style=\"text-align: right;\">\n",
       "      <th></th>\n",
       "      <th>Unnamed: 0</th>\n",
       "      <th>manufacturer</th>\n",
       "      <th>model</th>\n",
       "      <th>displ</th>\n",
       "      <th>year</th>\n",
       "      <th>cyl</th>\n",
       "      <th>trans</th>\n",
       "      <th>drv</th>\n",
       "      <th>cty</th>\n",
       "      <th>hwy</th>\n",
       "      <th>fl</th>\n",
       "      <th>class</th>\n",
       "    </tr>\n",
       "  </thead>\n",
       "  <tbody>\n",
       "    <tr>\n",
       "      <th>0</th>\n",
       "      <td>1</td>\n",
       "      <td>audi</td>\n",
       "      <td>a4</td>\n",
       "      <td>1.8</td>\n",
       "      <td>1999</td>\n",
       "      <td>4</td>\n",
       "      <td>auto(l5)</td>\n",
       "      <td>f</td>\n",
       "      <td>18</td>\n",
       "      <td>29</td>\n",
       "      <td>p</td>\n",
       "      <td>compact</td>\n",
       "    </tr>\n",
       "    <tr>\n",
       "      <th>1</th>\n",
       "      <td>2</td>\n",
       "      <td>audi</td>\n",
       "      <td>a4</td>\n",
       "      <td>1.8</td>\n",
       "      <td>1999</td>\n",
       "      <td>4</td>\n",
       "      <td>manual(m5)</td>\n",
       "      <td>f</td>\n",
       "      <td>21</td>\n",
       "      <td>29</td>\n",
       "      <td>p</td>\n",
       "      <td>compact</td>\n",
       "    </tr>\n",
       "    <tr>\n",
       "      <th>2</th>\n",
       "      <td>3</td>\n",
       "      <td>audi</td>\n",
       "      <td>a4</td>\n",
       "      <td>2.0</td>\n",
       "      <td>2008</td>\n",
       "      <td>4</td>\n",
       "      <td>manual(m6)</td>\n",
       "      <td>f</td>\n",
       "      <td>20</td>\n",
       "      <td>31</td>\n",
       "      <td>p</td>\n",
       "      <td>compact</td>\n",
       "    </tr>\n",
       "  </tbody>\n",
       "</table>\n",
       "</div>"
      ],
      "text/plain": [
       "   Unnamed: 0 manufacturer model  displ  year  cyl       trans drv  cty  hwy  \\\n",
       "0           1         audi    a4    1.8  1999    4    auto(l5)   f   18   29   \n",
       "1           2         audi    a4    1.8  1999    4  manual(m5)   f   21   29   \n",
       "2           3         audi    a4    2.0  2008    4  manual(m6)   f   20   31   \n",
       "\n",
       "  fl    class  \n",
       "0  p  compact  \n",
       "1  p  compact  \n",
       "2  p  compact  "
      ]
     },
     "execution_count": 3,
     "metadata": {},
     "output_type": "execute_result"
    }
   ],
   "source": [
    "mpg_df = pd.read_csv('https://raw.githubusercontent.com/JetBrains/lets-plot-docs/master/data/mpg.csv')\n",
    "mpg_df.head(3)"
   ]
  },
  {
   "cell_type": "markdown",
   "id": "included-vacation",
   "metadata": {},
   "source": [
    "#### 1. Default Tooltips"
   ]
  },
  {
   "cell_type": "code",
   "execution_count": 4,
   "id": "hispanic-movement",
   "metadata": {},
   "outputs": [
    {
     "data": {
      "text/html": [
       "   <div id=\"Ax27rg\"></div>\n",
       "   <script type=\"text/javascript\" data-lets-plot-script=\"plot\">\n",
       "       (function() {\n",
       "           var plotSpec={\n",
       "\"data\":{\n",
       "},\n",
       "\"mapping\":{\n",
       "\"x\":\"class\",\n",
       "\"y\":\"hwy\"\n",
       "},\n",
       "\"data_meta\":{\n",
       "},\n",
       "\"kind\":\"plot\",\n",
       "\"scales\":[],\n",
       "\"layers\":[{\n",
       "\"geom\":\"boxplot\",\n",
       "\"mapping\":{\n",
       "},\n",
       "\"data_meta\":{\n",
       "},\n",
       "\"data\":{\n",
       "\"..middle..\":[27.0,27.0,17.5,25.0,23.0,17.0,26.0],\n",
       "\"..lower..\":[26.0,26.0,17.0,24.0,22.0,16.0,24.5],\n",
       "\"..upper..\":[29.0,29.0,19.0,26.0,24.0,18.0,30.5],\n",
       "\"..ymin..\":[23.0,23.0,14.0,23.0,21.0,15.0,20.0],\n",
       "\"..ymax..\":[33.0,32.0,22.0,26.0,24.0,20.0,36.0],\n",
       "\"class\":[\"compact\",\"midsize\",\"suv\",\"2seater\",\"minivan\",\"pickup\",\"subcompact\"]\n",
       "}\n",
       "},{\n",
       "\"geom\":\"point\",\n",
       "\"stat\":\"boxplot_outlier\",\n",
       "\"mapping\":{\n",
       "},\n",
       "\"show_legend\":false,\n",
       "\"data_meta\":{\n",
       "},\n",
       "\"data\":{\n",
       "\"..middle..\":[27.0,27.0,27.0,27.0,27.0,17.5,17.5,17.5,17.5,17.5,17.5,17.5,17.5,25.0,23.0,17.0,17.0,17.0,17.0,26.0,26.0],\n",
       "\"..lower..\":[26.0,26.0,26.0,26.0,26.0,17.0,17.0,17.0,17.0,17.0,17.0,17.0,17.0,24.0,22.0,16.0,16.0,16.0,16.0,24.5,24.5],\n",
       "\"..upper..\":[29.0,29.0,29.0,29.0,29.0,19.0,19.0,19.0,19.0,19.0,19.0,19.0,19.0,26.0,24.0,18.0,18.0,18.0,18.0,30.5,30.5],\n",
       "\"..ymin..\":[23.0,23.0,23.0,23.0,23.0,14.0,14.0,14.0,14.0,14.0,14.0,14.0,14.0,23.0,21.0,15.0,15.0,15.0,15.0,20.0,20.0],\n",
       "\"..ymax..\":[33.0,33.0,33.0,33.0,32.0,22.0,22.0,22.0,22.0,22.0,22.0,22.0,22.0,26.0,24.0,20.0,20.0,20.0,20.0,36.0,36.0],\n",
       "\"class\":[\"compact\",\"compact\",\"compact\",\"compact\",\"midsize\",\"suv\",\"suv\",\"suv\",\"suv\",\"suv\",\"suv\",\"suv\",\"suv\",\"2seater\",\"minivan\",\"pickup\",\"pickup\",\"pickup\",\"pickup\",\"subcompact\",\"subcompact\"],\n",
       "\"hwy\":[35.0,37.0,35.0,44.0,NaN,12.0,12.0,25.0,24.0,27.0,25.0,26.0,23.0,NaN,17.0,12.0,12.0,12.0,22.0,44.0,41.0]\n",
       "}\n",
       "}],\n",
       "\"metainfo_list\":[]\n",
       "};\n",
       "           var plotContainer = document.getElementById(\"Ax27rg\");\n",
       "           window.letsPlotCall(function() {{\n",
       "               LetsPlot.buildPlotFromProcessedSpecs(plotSpec, -1, -1, plotContainer);\n",
       "           }});\n",
       "       })();    \n",
       "   </script>"
      ],
      "text/plain": [
       "<lets_plot.plot.core.PlotSpec at 0x7fd9585fddf0>"
      ]
     },
     "execution_count": 4,
     "metadata": {},
     "output_type": "execute_result"
    }
   ],
   "source": [
    "ggplot(mpg_df, aes(x=\"class\", y=\"hwy\")) + geom_boxplot()"
   ]
  },
  {
   "cell_type": "markdown",
   "id": "trying-country",
   "metadata": {},
   "source": [
    "#### 2. `disable_splitting()`\n",
    "\n",
    "The function moves all side tooltips to the general tooltip. "
   ]
  },
  {
   "cell_type": "code",
   "execution_count": 5,
   "id": "incident-province",
   "metadata": {},
   "outputs": [
    {
     "data": {
      "text/html": [
       "   <div id=\"487kjQ\"></div>\n",
       "   <script type=\"text/javascript\" data-lets-plot-script=\"plot\">\n",
       "       (function() {\n",
       "           var plotSpec={\n",
       "\"data\":{\n",
       "},\n",
       "\"mapping\":{\n",
       "\"x\":\"class\",\n",
       "\"y\":\"hwy\"\n",
       "},\n",
       "\"data_meta\":{\n",
       "},\n",
       "\"kind\":\"plot\",\n",
       "\"scales\":[],\n",
       "\"layers\":[{\n",
       "\"geom\":\"boxplot\",\n",
       "\"mapping\":{\n",
       "},\n",
       "\"tooltips\":{\n",
       "\"formats\":[],\n",
       "\"disable_splitting\":true\n",
       "},\n",
       "\"data_meta\":{\n",
       "},\n",
       "\"data\":{\n",
       "\"..middle..\":[27.0,27.0,17.5,25.0,23.0,17.0,26.0],\n",
       "\"..lower..\":[26.0,26.0,17.0,24.0,22.0,16.0,24.5],\n",
       "\"..upper..\":[29.0,29.0,19.0,26.0,24.0,18.0,30.5],\n",
       "\"..ymin..\":[23.0,23.0,14.0,23.0,21.0,15.0,20.0],\n",
       "\"..ymax..\":[33.0,32.0,22.0,26.0,24.0,20.0,36.0],\n",
       "\"class\":[\"compact\",\"midsize\",\"suv\",\"2seater\",\"minivan\",\"pickup\",\"subcompact\"]\n",
       "}\n",
       "},{\n",
       "\"geom\":\"point\",\n",
       "\"stat\":\"boxplot_outlier\",\n",
       "\"mapping\":{\n",
       "},\n",
       "\"show_legend\":false,\n",
       "\"data_meta\":{\n",
       "},\n",
       "\"data\":{\n",
       "\"..middle..\":[27.0,27.0,27.0,27.0,27.0,17.5,17.5,17.5,17.5,17.5,17.5,17.5,17.5,25.0,23.0,17.0,17.0,17.0,17.0,26.0,26.0],\n",
       "\"..lower..\":[26.0,26.0,26.0,26.0,26.0,17.0,17.0,17.0,17.0,17.0,17.0,17.0,17.0,24.0,22.0,16.0,16.0,16.0,16.0,24.5,24.5],\n",
       "\"..upper..\":[29.0,29.0,29.0,29.0,29.0,19.0,19.0,19.0,19.0,19.0,19.0,19.0,19.0,26.0,24.0,18.0,18.0,18.0,18.0,30.5,30.5],\n",
       "\"..ymin..\":[23.0,23.0,23.0,23.0,23.0,14.0,14.0,14.0,14.0,14.0,14.0,14.0,14.0,23.0,21.0,15.0,15.0,15.0,15.0,20.0,20.0],\n",
       "\"..ymax..\":[33.0,33.0,33.0,33.0,32.0,22.0,22.0,22.0,22.0,22.0,22.0,22.0,22.0,26.0,24.0,20.0,20.0,20.0,20.0,36.0,36.0],\n",
       "\"class\":[\"compact\",\"compact\",\"compact\",\"compact\",\"midsize\",\"suv\",\"suv\",\"suv\",\"suv\",\"suv\",\"suv\",\"suv\",\"suv\",\"2seater\",\"minivan\",\"pickup\",\"pickup\",\"pickup\",\"pickup\",\"subcompact\",\"subcompact\"],\n",
       "\"hwy\":[35.0,37.0,35.0,44.0,NaN,12.0,12.0,25.0,24.0,27.0,25.0,26.0,23.0,NaN,17.0,12.0,12.0,12.0,22.0,44.0,41.0]\n",
       "}\n",
       "}],\n",
       "\"metainfo_list\":[]\n",
       "};\n",
       "           var plotContainer = document.getElementById(\"487kjQ\");\n",
       "           window.letsPlotCall(function() {{\n",
       "               LetsPlot.buildPlotFromProcessedSpecs(plotSpec, -1, -1, plotContainer);\n",
       "           }});\n",
       "       })();    \n",
       "   </script>"
      ],
      "text/plain": [
       "<lets_plot.plot.core.PlotSpec at 0x7fd9b8a8d310>"
      ]
     },
     "execution_count": 5,
     "metadata": {},
     "output_type": "execute_result"
    }
   ],
   "source": [
    "ggplot(mpg_df, aes(x=\"class\", y=\"hwy\")) + geom_boxplot(tooltips=layer_tooltips().disable_splitting())"
   ]
  },
  {
   "cell_type": "markdown",
   "id": "collectible-figure",
   "metadata": {},
   "source": [
    "#### 3. `disable_splitting()` with Specified Tooltip Lines\n",
    "\n",
    "All side tooltips are hidden, the general tooltip gets the specified lines."
   ]
  },
  {
   "cell_type": "code",
   "execution_count": 6,
   "id": "compliant-dylan",
   "metadata": {},
   "outputs": [
    {
     "data": {
      "text/html": [
       "   <div id=\"gq1090\"></div>\n",
       "   <script type=\"text/javascript\" data-lets-plot-script=\"plot\">\n",
       "       (function() {\n",
       "           var plotSpec={\n",
       "\"data\":{\n",
       "},\n",
       "\"mapping\":{\n",
       "\"x\":\"class\",\n",
       "\"y\":\"hwy\"\n",
       "},\n",
       "\"data_meta\":{\n",
       "},\n",
       "\"kind\":\"plot\",\n",
       "\"scales\":[],\n",
       "\"layers\":[{\n",
       "\"geom\":\"boxplot\",\n",
       "\"mapping\":{\n",
       "},\n",
       "\"tooltips\":{\n",
       "\"formats\":[],\n",
       "\"lines\":[\"@|^middle\"],\n",
       "\"disable_splitting\":true\n",
       "},\n",
       "\"data_meta\":{\n",
       "},\n",
       "\"data\":{\n",
       "\"..middle..\":[27.0,27.0,17.5,25.0,23.0,17.0,26.0],\n",
       "\"..lower..\":[26.0,26.0,17.0,24.0,22.0,16.0,24.5],\n",
       "\"..upper..\":[29.0,29.0,19.0,26.0,24.0,18.0,30.5],\n",
       "\"..ymin..\":[23.0,23.0,14.0,23.0,21.0,15.0,20.0],\n",
       "\"..ymax..\":[33.0,32.0,22.0,26.0,24.0,20.0,36.0],\n",
       "\"class\":[\"compact\",\"midsize\",\"suv\",\"2seater\",\"minivan\",\"pickup\",\"subcompact\"]\n",
       "}\n",
       "},{\n",
       "\"geom\":\"point\",\n",
       "\"stat\":\"boxplot_outlier\",\n",
       "\"mapping\":{\n",
       "},\n",
       "\"show_legend\":false,\n",
       "\"data_meta\":{\n",
       "},\n",
       "\"data\":{\n",
       "\"..middle..\":[27.0,27.0,27.0,27.0,27.0,17.5,17.5,17.5,17.5,17.5,17.5,17.5,17.5,25.0,23.0,17.0,17.0,17.0,17.0,26.0,26.0],\n",
       "\"..lower..\":[26.0,26.0,26.0,26.0,26.0,17.0,17.0,17.0,17.0,17.0,17.0,17.0,17.0,24.0,22.0,16.0,16.0,16.0,16.0,24.5,24.5],\n",
       "\"..upper..\":[29.0,29.0,29.0,29.0,29.0,19.0,19.0,19.0,19.0,19.0,19.0,19.0,19.0,26.0,24.0,18.0,18.0,18.0,18.0,30.5,30.5],\n",
       "\"..ymin..\":[23.0,23.0,23.0,23.0,23.0,14.0,14.0,14.0,14.0,14.0,14.0,14.0,14.0,23.0,21.0,15.0,15.0,15.0,15.0,20.0,20.0],\n",
       "\"..ymax..\":[33.0,33.0,33.0,33.0,32.0,22.0,22.0,22.0,22.0,22.0,22.0,22.0,22.0,26.0,24.0,20.0,20.0,20.0,20.0,36.0,36.0],\n",
       "\"class\":[\"compact\",\"compact\",\"compact\",\"compact\",\"midsize\",\"suv\",\"suv\",\"suv\",\"suv\",\"suv\",\"suv\",\"suv\",\"suv\",\"2seater\",\"minivan\",\"pickup\",\"pickup\",\"pickup\",\"pickup\",\"subcompact\",\"subcompact\"],\n",
       "\"hwy\":[35.0,37.0,35.0,44.0,NaN,12.0,12.0,25.0,24.0,27.0,25.0,26.0,23.0,NaN,17.0,12.0,12.0,12.0,22.0,44.0,41.0]\n",
       "}\n",
       "}],\n",
       "\"metainfo_list\":[]\n",
       "};\n",
       "           var plotContainer = document.getElementById(\"gq1090\");\n",
       "           window.letsPlotCall(function() {{\n",
       "               LetsPlot.buildPlotFromProcessedSpecs(plotSpec, -1, -1, plotContainer);\n",
       "           }});\n",
       "       })();    \n",
       "   </script>"
      ],
      "text/plain": [
       "<lets_plot.plot.core.PlotSpec at 0x7fd9b8ab0d00>"
      ]
     },
     "execution_count": 6,
     "metadata": {},
     "output_type": "execute_result"
    }
   ],
   "source": [
    "ggplot(mpg_df, aes(x=\"class\", y=\"hwy\")) + geom_boxplot(tooltips=layer_tooltips()\n",
    "                                                                   .line(\"@|^middle\")\n",
    "                                                                   .disable_splitting())"
   ]
  }
 ],
 "metadata": {
  "kernelspec": {
   "display_name": "Python 3 (ipykernel)",
   "language": "python",
   "name": "python3"
  },
  "language_info": {
   "codemirror_mode": {
    "name": "ipython",
    "version": 3
   },
   "file_extension": ".py",
   "mimetype": "text/x-python",
   "name": "python",
   "nbconvert_exporter": "python",
   "pygments_lexer": "ipython3",
   "version": "3.8.17"
  }
 },
 "nbformat": 4,
 "nbformat_minor": 5
}
